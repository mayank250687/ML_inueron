{
 "cells": [
  {
   "cell_type": "markdown",
   "metadata": {},
   "source": [
    "Write a Python Program to implement your own myreduce() function which works exactly\n",
    "like Python's built-in function reduce()"
   ]
  },
  {
   "cell_type": "code",
   "execution_count": 3,
   "metadata": {},
   "outputs": [
    {
     "name": "stdout",
     "output_type": "stream",
     "text": [
      "15\n",
      "120\n"
     ]
    }
   ],
   "source": [
    "def my_reduce (funct, lst):\n",
    "    x=0\n",
    "    y=0\n",
    "    z=1\n",
    "    for i in lst:\n",
    "        if len(lst) == 1:\n",
    "            return \"less item in list\"\n",
    "    \n",
    "        \n",
    "            \n",
    "        if len(lst) == 2:\n",
    "            x , y = i , lst[1]\n",
    "            x = funct (x,y)\n",
    "            break\n",
    "        elif z == 1:\n",
    "            x , y = i , lst[1]\n",
    "            \n",
    "            x = funct (x,y)\n",
    "            z += 1\n",
    "        elif z < len(lst):\n",
    "            y =  lst[z]\n",
    "            \n",
    "            x = funct (x,y)\n",
    "            z += 1\n",
    "        else:\n",
    "            break\n",
    "    return x\n",
    "    \n",
    "            \n",
    "                \n",
    "def sum(a,b):\n",
    "    return a+b\n",
    "def mul(a,b):\n",
    "    return a*b\n",
    "\n",
    "l=[1,2,3,4,5]\n",
    "\n",
    "print(my_reduce(sum,l))\n",
    "print(my_reduce(mul,l))\n"
   ]
  },
  {
   "cell_type": "markdown",
   "metadata": {},
   "source": [
    "Write a Python program to implement your own myfilter() function which works exactly\n",
    "like Python's built-in function filter()"
   ]
  },
  {
   "cell_type": "code",
   "execution_count": 2,
   "metadata": {},
   "outputs": [
    {
     "name": "stdout",
     "output_type": "stream",
     "text": [
      "[2, 4, 6, 8]\n",
      "[7, 6, 8, 9]\n"
     ]
    }
   ],
   "source": [
    "def my_filter(funct, lst):\n",
    "    lst1 = []\n",
    "    for i in lst:\n",
    "        if funct(i) == True:\n",
    "            lst1.append(i)\n",
    "        else:\n",
    "            continue\n",
    "    return (lst1)\n",
    "\n",
    "def is_even(a):\n",
    "    if a % 2 == 0:\n",
    "        return True\n",
    "def greater_than_five(a):\n",
    "    if a>5:\n",
    "        return True\n",
    "    \n",
    "    \n",
    "\n",
    "l=[2,3,4,5,7,6,8,9]\n",
    "\n",
    "print(list(my_filter(is_even, l)))\n",
    "print(list(my_filter(greater_than_five, l)))\n"
   ]
  },
  {
   "cell_type": "markdown",
   "metadata": {},
   "source": [
    "['x', 'xx', 'xxx', 'xxxx', 'y', 'yy', 'yyy', 'yyyy', 'z', 'zz', 'zzz', 'zzzz']\n",
    "['x', 'y', 'z', 'xx', 'yy', 'zz', 'xxx', 'yyy', 'zzz', 'xxxx', 'yyyy', 'zzzz']\n",
    "[[2], [3], [4], [3], [4], [5], [4], [5], [6]] \n",
    "[[2, 3, 4, 5], [3, 4, 5, 6], [4, 5, 6, 7], [5, 6, 7, 8]]\n",
    "[(1, 1), (2, 1), (3, 1), (1, 2), (2, 2), (3, 2), (1, 3), (2, 3), (3, 3)]"
   ]
  },
  {
   "cell_type": "code",
   "execution_count": 28,
   "metadata": {},
   "outputs": [
    {
     "name": "stdout",
     "output_type": "stream",
     "text": [
      "['x', 'xx', 'xxx', 'xxxx', 'y', 'yy', 'yyy', 'yyyy', 'z', 'zz', 'zzz', 'zzzz']\n",
      "['x', 'y', 'z', 'xx', 'yy', 'zz', 'xxx', 'yyy', 'zzz', 'xxxx', 'yyyy', 'zzzz']\n",
      "[[2], [3], [4], [3], [4], [5], [4], [5], [6]]\n",
      "[[2, 3, 4, 5], [3, 4, 5, 6], [4, 5, 6, 7], [5, 6, 7, 8]]\n",
      "[(1, 1), (2, 1), (3, 1), (1, 2), (2, 2), (3, 2), (1, 3), (2, 3), (3, 3)]\n"
     ]
    }
   ],
   "source": [
    "l=['x','y','z']\n",
    "l1=[2,3,4]\n",
    "l2=[2,3,4,5]\n",
    "l3=[1,2,3]\n",
    "\n",
    "lst1=[ i*j for i in l for j in range(1,5)]\n",
    "lst2=[i*j for i in range (1,5) for j in l]\n",
    "lst3=[[i+j] for i in l1 for j in range (0,3)]\n",
    "lst4=[[i,i+1,i+2,i+3] for i in l2]\n",
    "lst5=[(j,i)  for i in l3 for j in l3]\n",
    "\n",
    "print(lst1)\n",
    "print(lst2)\n",
    "print(lst3)\n",
    "print(lst4)\n",
    "print(lst5)"
   ]
  },
  {
   "cell_type": "code",
   "execution_count": null,
   "metadata": {},
   "outputs": [],
   "source": []
  }
 ],
 "metadata": {
  "kernelspec": {
   "display_name": "Python 3",
   "language": "python",
   "name": "python3"
  },
  "language_info": {
   "codemirror_mode": {
    "name": "ipython",
    "version": 3
   },
   "file_extension": ".py",
   "mimetype": "text/x-python",
   "name": "python",
   "nbconvert_exporter": "python",
   "pygments_lexer": "ipython3",
   "version": "3.7.4"
  }
 },
 "nbformat": 4,
 "nbformat_minor": 2
}
